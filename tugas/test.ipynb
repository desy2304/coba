{
 "cells": [
  {
   "cell_type": "markdown",
   "id": "9c76ee43",
   "metadata": {},
   "source": [
    "apalah"
   ]
  }
 ],
 "metadata": {
  "language_info": {
   "name": "python"
  }
 },
 "nbformat": 4,
 "nbformat_minor": 5
}
