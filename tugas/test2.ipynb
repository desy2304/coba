{
 "cells": [
  {
   "cell_type": "markdown",
   "id": "c00f1a2c",
   "metadata": {},
   "source": [
    "apalah"
   ]
  }
 ],
 "metadata": {
  "language_info": {
   "name": "python"
  }
 },
 "nbformat": 4,
 "nbformat_minor": 5
}
